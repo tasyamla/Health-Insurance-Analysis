{
 "cells": [
  {
   "cell_type": "markdown",
   "metadata": {},
   "source": [
    "'''\n",
    "\n",
    "=================================================\n",
    "\n",
    "\n",
    "Nama  : Tasya Amalia\n",
    "\n",
    "\n",
    "Tugas ini dibuat untuk menganalisis dan visualisasi data dari faktor-faktor yang mempengaruhi besarnya premi kesehatan.\n",
    "\n",
    "\n",
    "=================================================\n",
    "\n",
    "'''\n"
   ]
  },
  {
   "cell_type": "markdown",
   "metadata": {},
   "source": [
    "### **Link URL Dashboard Tableau**: \n",
    "https://public.tableau.com/shared/5YQTBJCQ6?:display_count=n&:origin=viz_share_link"
   ]
  },
  {
   "cell_type": "markdown",
   "metadata": {},
   "source": [
    "## **IDENTIFIKASI MASALAH**"
   ]
  },
  {
   "cell_type": "markdown",
   "metadata": {},
   "source": [
    "### **Latar Belakang**\n",
    "Kesehatan merupakan hal utama yang harus diperhatikan dan diupayakan oleh setiap manusia untuk menopang keberlangsungan \n",
    "aktivitas sehari-hari secara produktif. Salah satu cara yang dapat dilakukan seseorang untuk mempersiapkan diri apabila terjadi risiko yang menimbulkan suatu penyakit yaitu dengan memiliki asuransi kesehatan. Jika dilihat dari kebutuhan, pemilihan premi  disesuaikan dengan kondisi ekonomi, mengingat asuransi bukan merupakan kebutuhan primer namun keberadaan asuransi dapat memenuhi kebutuhan primer ketika terjadi resiko bagi pemilik asuransi. Terdapat beberapa faktor yang mempengaruhi penentu besarnya nilai premi yang harus dibayarkan oleh pemilik asuransi, tergantung pada beberapa aspek seperti kondisi pemilik asuransi (usia, jenis kelamin, jumlah anak, pendapatan, kondisi kesehatan). Semakin pemilik asuransi memiliki kondisi kesehatan yang berisiko, maka semakin mahal premi yang harus dibayarkan. Oleh karena itu, saya ingin mengetahui faktor apa saja yang mempengaruhi besarnya premi yang harus dibayarkan sehingga peserta asuransi dapat menjaga kesehatannya untuk mengantisipasi pembayaran yang tidak sesuai ekspektasi.\n"
   ]
  },
  {
   "cell_type": "markdown",
   "metadata": {},
   "source": [
    "### **Problem Statement**"
   ]
  },
  {
   "cell_type": "markdown",
   "metadata": {},
   "source": [
    "##### **SMART Framework**\n",
    "*Health Insurance*\n",
    "\n",
    "S: Untuk mengetahui faktor-faktor yang mempengaruhi besarnya premi kesehatan \n",
    "\n",
    "M: Peserta asuransi dapat mendapatkan tarif premi asuransi kesehatan minimal sekitar $1121\n",
    "\n",
    "A: Melakukan analisis faktor yang memengaruhi besarnya premi kesehatan\n",
    "\n",
    "R: Dengan mengetahui faktor penyebab besarnya premi, peserta asuransi dapat menjaga kesehatanya untuk mendapatkan tarif premi yang diinginkan atau sesuai ekspetasi yang diharapkan\n",
    "\n",
    "T: Penyelesaian analisis dalam terselesaikan dalam waktu 1 minggu\n",
    "\n",
    "\n",
    "##### **Problem Statement**\n",
    "Peserta Asuransi ingin mengetahui apa saja faktor yang mempengaruhi besarnya premi asuransi kesehatan yang harus dibayarkan sehingga peserta dapat mendapatkan tarif premi asuransi kesehatan  minimal sekitar $1121. Oleh karena itu, dilakukan analisis data untuk mengetahui faktor apa saja yang mempengaruhi besarnya premi kesehatan. Dengan hasil tersebut, peserta asuransi dapat menjaga kesehatanya untuk mendapatkan tarif premi yang diinginkan atau sesuai ekspetasi yang diharapkan. Analisis data ini diharapkan dapat terselesaikan dalam waktu 1 minggu.\n"
   ]
  },
  {
   "cell_type": "markdown",
   "metadata": {},
   "source": [
    "### **Penjabaran Masalah**\n",
    "Untuk menjabarkan permasalahan tersebut digunakan metode 5W+1H, yaitu:\n",
    "1. Berapa rata-rata premi asuransi kesehatan yang dibayarkan oleh peserta asuransi? serta berapakah nilai terendah dan terbesarnya? **(visualisasi Statistika Deskriptif)**\n",
    "\n",
    "2. Siapa yang memiliki rata-rata premi paling tinggi?  **(visualisasi 1)**\n",
    "\n",
    "3. Di wilayah mana rata-rata premi paling tinggi? **(visualisasi 2)**\n",
    "\n",
    "4. Berapa premi rata-rata peserta berdasarkan status merokok dan kategori BMI? **(visualisasi 3)**\n",
    "\n",
    "5. Berapa premi rata-rata peserta berdasarkan jenis kelamin dan kategori usia? **(visualisasi 4)**\n",
    "\n",
    "6. Apakah terdapat hubungan antara kategori usia, jenis kelamin, kategori berat badan, jumlah anak, status merokok dan wilayah dengan kelompok premi yang dibayarkan oleh peserta asuransi? **(uji hipotesis chi-square)**\n",
    "\n",
    "7. Apakah status merokok sangat mempengaruhi besarnya premi kesehatan? **(uji korelasi spearman & visualisasi Statistika Deskriptif)**"
   ]
  },
  {
   "cell_type": "markdown",
   "metadata": {},
   "source": [
    "## **IMPORT LIBRARY**"
   ]
  },
  {
   "cell_type": "code",
   "execution_count": 2,
   "metadata": {},
   "outputs": [],
   "source": [
    "# Melakukan import beberapa library python\n",
    "import pandas as pd\n",
    "import matplotlib.pyplot as plt\n",
    "import seaborn as sns\n",
    "from scipy import stats"
   ]
  },
  {
   "cell_type": "markdown",
   "metadata": {},
   "source": [
    "## **DATA LOADING**"
   ]
  },
  {
   "cell_type": "markdown",
   "metadata": {},
   "source": [
    "Dataset yang saya gunakan mengenai **_Health Insurance_** yang diperoleh dari Kaggle dengan link berikut: https://www.kaggle.com/datasets/willianoliveiragibin/healthcare-insurance"
   ]
  },
  {
   "cell_type": "code",
   "execution_count": 3,
   "metadata": {},
   "outputs": [],
   "source": [
    "'''\n",
    "Melakukan load  data ke dalam pandas DataFrame dari sumber csv\n",
    "'''\n",
    "\n",
    "df = pd.read_csv('insurance.csv')\n",
    "\n"
   ]
  },
  {
   "cell_type": "markdown",
   "metadata": {},
   "source": [
    "## **DATA PREPARATION & CLEANING**"
   ]
  },
  {
   "cell_type": "code",
   "execution_count": 4,
   "metadata": {},
   "outputs": [
    {
     "name": "stdout",
     "output_type": "stream",
     "text": [
      "<class 'pandas.core.frame.DataFrame'>\n",
      "RangeIndex: 1338 entries, 0 to 1337\n",
      "Data columns (total 7 columns):\n",
      " #   Column    Non-Null Count  Dtype  \n",
      "---  ------    --------------  -----  \n",
      " 0   age       1338 non-null   int64  \n",
      " 1   sex       1338 non-null   object \n",
      " 2   bmi       1338 non-null   float64\n",
      " 3   children  1338 non-null   int64  \n",
      " 4   smoker    1338 non-null   object \n",
      " 5   region    1338 non-null   object \n",
      " 6   charges   1338 non-null   float64\n",
      "dtypes: float64(2), int64(2), object(3)\n",
      "memory usage: 73.3+ KB\n"
     ]
    }
   ],
   "source": [
    "# Menampilkan ringkasan informasi\n",
    "df.info()"
   ]
  },
  {
   "cell_type": "markdown",
   "metadata": {},
   "source": [
    "- Ringkasan informasi dari DataFrame ini yaitu terdapat 1338 baris dan 7 kolom. DataFrame ini memiliki beberapa tabel yaitu, age, sex, bmi, children, smoker, region dan charges. Selain itu, hasil tersebut menunjukkan bahwa tidak terdapat nilai null pada semua kolom.\n",
    "\n",
    "- Tipe data dari DataFrame ini terdiri dari 2 float, 2 integer, dan 3 object. Dari hasil tersebut memiliki tipe data yang sudah sesuai."
   ]
  },
  {
   "cell_type": "code",
   "execution_count": 5,
   "metadata": {},
   "outputs": [
    {
     "data": {
      "text/plain": [
       "1"
      ]
     },
     "execution_count": 5,
     "metadata": {},
     "output_type": "execute_result"
    }
   ],
   "source": [
    "# Cek apakah ada data duplikat\n",
    "df.duplicated().sum()"
   ]
  },
  {
   "cell_type": "code",
   "execution_count": 6,
   "metadata": {},
   "outputs": [],
   "source": [
    "# Menghapus data duplikat\n",
    "df_cleaned = df.drop_duplicates(inplace=True)\n",
    "df_cleaned"
   ]
  },
  {
   "cell_type": "markdown",
   "metadata": {},
   "source": [
    "Berdasarkan hasil tersebut diketahui DataFrame ini memiliki data duplikat sebanyak 1 data dan berhasil dilakukan penghapusan data duplikat."
   ]
  },
  {
   "cell_type": "markdown",
   "metadata": {},
   "source": [
    "#### Membuat kolom baru"
   ]
  },
  {
   "cell_type": "code",
   "execution_count": 7,
   "metadata": {},
   "outputs": [
    {
     "name": "stdout",
     "output_type": "stream",
     "text": [
      "      age     sex     bmi  children smoker     region      charges  \\\n",
      "0      19  female  27.900         0    yes  southwest  16884.92400   \n",
      "1      18    male  33.770         1     no  southeast   1725.55230   \n",
      "2      28    male  33.000         3     no  southeast   4449.46200   \n",
      "3      33    male  22.705         0     no  northwest  21984.47061   \n",
      "4      32    male  28.880         0     no  northwest   3866.85520   \n",
      "...   ...     ...     ...       ...    ...        ...          ...   \n",
      "1333   50    male  30.970         3     no  northwest  10600.54830   \n",
      "1334   18  female  31.920         0     no  northeast   2205.98080   \n",
      "1335   18  female  36.850         0     no  southeast   1629.83350   \n",
      "1336   21  female  25.800         0     no  southwest   2007.94500   \n",
      "1337   61  female  29.070         0    yes  northwest  29141.36030   \n",
      "\n",
      "     age category  \n",
      "0          Remaja  \n",
      "1          Remaja  \n",
      "2          Dewasa  \n",
      "3          Dewasa  \n",
      "4          Dewasa  \n",
      "...           ...  \n",
      "1333       Lansia  \n",
      "1334       Remaja  \n",
      "1335       Remaja  \n",
      "1336       Dewasa  \n",
      "1337       Lansia  \n",
      "\n",
      "[1337 rows x 8 columns]\n"
     ]
    }
   ],
   "source": [
    "# masih ragu pengkategori nya\n",
    "# Membuat kategori usia (masih ragu sama kategory)\n",
    "def category_age(age):\n",
    "    if 13 <= age <= 19:\n",
    "        return 'Remaja'\n",
    "    elif 20 <= age <= 45:\n",
    "        return 'Dewasa'\n",
    "    else:\n",
    "        return 'Lansia'\n",
    "\n",
    "# Membuat kategori BMI menggunakan apply()\n",
    "df['age category'] = df['age'].apply(category_age)\n",
    "\n",
    "# Menampilkan DataFrame\n",
    "print(df)"
   ]
  },
  {
   "cell_type": "code",
   "execution_count": 8,
   "metadata": {},
   "outputs": [
    {
     "data": {
      "text/plain": [
       "Dewasa    701\n",
       "Lansia    500\n",
       "Remaja    136\n",
       "Name: age category, dtype: int64"
      ]
     },
     "execution_count": 8,
     "metadata": {},
     "output_type": "execute_result"
    }
   ],
   "source": [
    "# Menampilkan jumlah peserta asuransi berdasarkan kategori usia\n",
    "df['age category'].value_counts()"
   ]
  },
  {
   "cell_type": "markdown",
   "metadata": {},
   "source": [
    "Diketahui bahwa peserta asuransi paling banyak pada kategori usia Adult (Dewasa) (701 peserta) dan paling sedikit pasa usia Youth (Remaja) (136 peserta)."
   ]
  },
  {
   "cell_type": "code",
   "execution_count": 9,
   "metadata": {},
   "outputs": [
    {
     "name": "stdout",
     "output_type": "stream",
     "text": [
      "      age     sex     bmi  children smoker     region      charges  \\\n",
      "0      19  female  27.900         0    yes  southwest  16884.92400   \n",
      "1      18    male  33.770         1     no  southeast   1725.55230   \n",
      "2      28    male  33.000         3     no  southeast   4449.46200   \n",
      "3      33    male  22.705         0     no  northwest  21984.47061   \n",
      "4      32    male  28.880         0     no  northwest   3866.85520   \n",
      "...   ...     ...     ...       ...    ...        ...          ...   \n",
      "1333   50    male  30.970         3     no  northwest  10600.54830   \n",
      "1334   18  female  31.920         0     no  northeast   2205.98080   \n",
      "1335   18  female  36.850         0     no  southeast   1629.83350   \n",
      "1336   21  female  25.800         0     no  southwest   2007.94500   \n",
      "1337   61  female  29.070         0    yes  northwest  29141.36030   \n",
      "\n",
      "     age category   bmi category  \n",
      "0          Remaja     Overweight  \n",
      "1          Remaja        Obesity  \n",
      "2          Dewasa        Obesity  \n",
      "3          Dewasa  Normal weight  \n",
      "4          Dewasa     Overweight  \n",
      "...           ...            ...  \n",
      "1333       Lansia        Obesity  \n",
      "1334       Remaja        Obesity  \n",
      "1335       Remaja        Obesity  \n",
      "1336       Dewasa     Overweight  \n",
      "1337       Lansia     Overweight  \n",
      "\n",
      "[1337 rows x 9 columns]\n"
     ]
    }
   ],
   "source": [
    "# Membuat kategori BMI\n",
    "def category_bmi(bmi):\n",
    "    if bmi < 18.5:\n",
    "        return 'Underweight'\n",
    "    elif 18.5 <= bmi < 24.9:\n",
    "        return 'Normal weight'\n",
    "    elif 25 <= bmi < 29.9:\n",
    "        return 'Overweight'\n",
    "    else:\n",
    "        return 'Obesity'\n",
    "\n",
    "# Membuat kategori BMI menggunakan apply()\n",
    "df['bmi category'] = df['bmi'].apply(category_bmi)\n",
    "\n",
    "# Menampilkan DataFrame\n",
    "print(df)"
   ]
  },
  {
   "cell_type": "code",
   "execution_count": 10,
   "metadata": {},
   "outputs": [
    {
     "data": {
      "text/plain": [
       "Obesity          721\n",
       "Overweight       374\n",
       "Normal weight    222\n",
       "Underweight       20\n",
       "Name: bmi category, dtype: int64"
      ]
     },
     "execution_count": 10,
     "metadata": {},
     "output_type": "execute_result"
    }
   ],
   "source": [
    "# Menampilkan jumlah peserta asuransi berdasarkan kategori BMI\n",
    "df['bmi category'].value_counts()"
   ]
  },
  {
   "cell_type": "markdown",
   "metadata": {},
   "source": [
    "Diketahui bahwa peserta asuransi paling banyak pada kategori berat badan obesitas (721 peserta) dan paling sedikit pada kategori underweight (20 peserta)"
   ]
  },
  {
   "cell_type": "markdown",
   "metadata": {},
   "source": [
    "#### Menampilkan Data Statistik\n",
    "Untuk mengetahui nilai dari central tendency, skewness dan kurtosis disetiap kolom numerik."
   ]
  },
  {
   "cell_type": "code",
   "execution_count": 11,
   "metadata": {},
   "outputs": [
    {
     "data": {
      "text/html": [
       "<div>\n",
       "<style scoped>\n",
       "    .dataframe tbody tr th:only-of-type {\n",
       "        vertical-align: middle;\n",
       "    }\n",
       "\n",
       "    .dataframe tbody tr th {\n",
       "        vertical-align: top;\n",
       "    }\n",
       "\n",
       "    .dataframe thead th {\n",
       "        text-align: right;\n",
       "    }\n",
       "</style>\n",
       "<table border=\"1\" class=\"dataframe\">\n",
       "  <thead>\n",
       "    <tr style=\"text-align: right;\">\n",
       "      <th></th>\n",
       "      <th>age</th>\n",
       "      <th>bmi</th>\n",
       "      <th>children</th>\n",
       "      <th>charges</th>\n",
       "    </tr>\n",
       "  </thead>\n",
       "  <tbody>\n",
       "    <tr>\n",
       "      <th>count</th>\n",
       "      <td>1337.000000</td>\n",
       "      <td>1337.000000</td>\n",
       "      <td>1337.000000</td>\n",
       "      <td>1337.000000</td>\n",
       "    </tr>\n",
       "    <tr>\n",
       "      <th>mean</th>\n",
       "      <td>39.222139</td>\n",
       "      <td>30.663452</td>\n",
       "      <td>1.095737</td>\n",
       "      <td>13279.121487</td>\n",
       "    </tr>\n",
       "    <tr>\n",
       "      <th>std</th>\n",
       "      <td>14.044333</td>\n",
       "      <td>6.100468</td>\n",
       "      <td>1.205571</td>\n",
       "      <td>12110.359656</td>\n",
       "    </tr>\n",
       "    <tr>\n",
       "      <th>min</th>\n",
       "      <td>18.000000</td>\n",
       "      <td>15.960000</td>\n",
       "      <td>0.000000</td>\n",
       "      <td>1121.873900</td>\n",
       "    </tr>\n",
       "    <tr>\n",
       "      <th>25%</th>\n",
       "      <td>27.000000</td>\n",
       "      <td>26.290000</td>\n",
       "      <td>0.000000</td>\n",
       "      <td>4746.344000</td>\n",
       "    </tr>\n",
       "    <tr>\n",
       "      <th>50%</th>\n",
       "      <td>39.000000</td>\n",
       "      <td>30.400000</td>\n",
       "      <td>1.000000</td>\n",
       "      <td>9386.161300</td>\n",
       "    </tr>\n",
       "    <tr>\n",
       "      <th>75%</th>\n",
       "      <td>51.000000</td>\n",
       "      <td>34.700000</td>\n",
       "      <td>2.000000</td>\n",
       "      <td>16657.717450</td>\n",
       "    </tr>\n",
       "    <tr>\n",
       "      <th>max</th>\n",
       "      <td>64.000000</td>\n",
       "      <td>53.130000</td>\n",
       "      <td>5.000000</td>\n",
       "      <td>63770.428010</td>\n",
       "    </tr>\n",
       "  </tbody>\n",
       "</table>\n",
       "</div>"
      ],
      "text/plain": [
       "               age          bmi     children       charges\n",
       "count  1337.000000  1337.000000  1337.000000   1337.000000\n",
       "mean     39.222139    30.663452     1.095737  13279.121487\n",
       "std      14.044333     6.100468     1.205571  12110.359656\n",
       "min      18.000000    15.960000     0.000000   1121.873900\n",
       "25%      27.000000    26.290000     0.000000   4746.344000\n",
       "50%      39.000000    30.400000     1.000000   9386.161300\n",
       "75%      51.000000    34.700000     2.000000  16657.717450\n",
       "max      64.000000    53.130000     5.000000  63770.428010"
      ]
     },
     "execution_count": 11,
     "metadata": {},
     "output_type": "execute_result"
    }
   ],
   "source": [
    "# Menampilkan data statisik untuk kolom numerik\n",
    "df.describe()"
   ]
  },
  {
   "cell_type": "markdown",
   "metadata": {},
   "source": [
    "- diketahui bahwa premi terendah yang dibayarkan oleh peserta asuransi sebesar $1121.87 dan tertinggi sebesar $63770.42\n",
    "\n",
    "- diketahui bahwa rata-rata premi yang dibayarkan oleh peserta asuransi sebesar $13279.12"
   ]
  },
  {
   "cell_type": "markdown",
   "metadata": {},
   "source": [
    "##### Usia"
   ]
  },
  {
   "cell_type": "code",
   "execution_count": 12,
   "metadata": {},
   "outputs": [
    {
     "name": "stdout",
     "output_type": "stream",
     "text": [
      "Mean dari Usia adalah 39\n",
      "Median dari Usia adalah 39\n",
      "Modus dari Usia adalah 18\n",
      "Nilai Skewness dari Usia adalah 0.05\n",
      "Nilai Kurtosis dari Usia adalah -1.24\n"
     ]
    }
   ],
   "source": [
    "# Menghitung mean dari kolom Usia\n",
    "age_mean = df['age'].mean()\n",
    "round_age_mean = round(age_mean)\n",
    "print('Mean dari Usia adalah', round_age_mean)\n",
    "\n",
    "# Menghitung median dari kolom Usia\n",
    "age_median = df['age'].median()\n",
    "round_age_median = round(age_median)\n",
    "print('Median dari Usia adalah',round_age_median)\n",
    "\n",
    "# Menghitung modus dari kolom Usia\n",
    "print('Modus dari Usia adalah',df['age'].mode()[0])\n",
    "\n",
    "# Menghitung Skewness dari kolom Usia\n",
    "print('Nilai Skewness dari Usia adalah', df['age'].skew().round(2))\n",
    "\n",
    "# Menghitung Kurtosis dari kolom Usia\n",
    "print('Nilai Kurtosis dari Usia adalah', df['age'].kurtosis().round(2))"
   ]
  },
  {
   "cell_type": "markdown",
   "metadata": {},
   "source": [
    "- Berdasarkan hasil analisis, diketahui bahwa rata-rata dan median usia peserta asuransi pada 39 tahun dan paling banyak pada usia 18 tahun. \n",
    "\n",
    "- Berdasarkan hasil analisis menunjukkan bahwa data berdistribusi normal diketahui dengan nilai median = mean. \n",
    "\n",
    "- Hasil tersebut menunjukkan bahwa memilki nilai skewness 0.05 yang artinya datanya hampir simetris karena berada diantara -0.5 dan 0.5. selain itu nilai kurtosis nya adalah -1.24 < 0 yang memiliki puncak yang lebih datar atau disebut juga dengan Platykurtic\n"
   ]
  },
  {
   "cell_type": "code",
   "execution_count": 13,
   "metadata": {},
   "outputs": [
    {
     "data": {
      "text/plain": [
       "<AxesSubplot:>"
      ]
     },
     "execution_count": 13,
     "metadata": {},
     "output_type": "execute_result"
    },
    {
     "data": {
      "image/png": "[encoded data removed]",
      "text/plain": [
       "<Figure size 1000x400 with 2 Axes>"
      ]
     },
     "metadata": {},
     "output_type": "display_data"
    }
   ],
   "source": [
    "# Visualisasi data kolom usia\n",
    "fig, ax = plt.subplots(ncols=2,figsize=(10,4))\n",
    "\n",
    "df['age'].plot(kind='hist',bins=20,ax=ax[0])\n",
    "df['age'].plot(kind='box',ax=ax[1])"
   ]
  },
  {
   "cell_type": "markdown",
   "metadata": {},
   "source": [
    "- Berdasarkan grafik boxplot kolom usia menunjukkan tidak terdapat data outlier dan pada grafik batang terlihat memiliki puncak yang lebih datar atau Platykurtic.\n"
   ]
  },
  {
   "cell_type": "markdown",
   "metadata": {},
   "source": [
    "##### BMI"
   ]
  },
  {
   "cell_type": "code",
   "execution_count": 14,
   "metadata": {},
   "outputs": [
    {
     "name": "stdout",
     "output_type": "stream",
     "text": [
      "Mean dari BMI adalah 31\n",
      "Median dari BMI adalah 30\n",
      "Modus dari BMI adalah 32.3\n",
      "Standar Deviasi dari BMI  adalah 6.1\n",
      "Nilai Skewness dari BMI adalah 0.28\n",
      "Nilai Kurtosis dari BMI adalah -0.05\n"
     ]
    }
   ],
   "source": [
    "# Menghitung mean dari kolom BMI\n",
    "BMI_mean = df['bmi'].mean()\n",
    "round_BMI_mean = round(BMI_mean)\n",
    "print('Mean dari BMI adalah', round_BMI_mean)\n",
    "\n",
    "# Menghitung median dari kolom BMI\n",
    "BMI_median = df['bmi'].median()\n",
    "round_BMI_median = round(BMI_median)\n",
    "print('Median dari BMI adalah', round_BMI_median)\n",
    "\n",
    "# Menghitung modus dari kolom BMI\n",
    "print('Modus dari BMI adalah',df['bmi'].mode()[0])\n",
    "\n",
    "# Menghitung Standar Deviasi dari kolom BMI\n",
    "BMIlSTD = df['bmi'].std()\n",
    "round_BMI_std = round(BMIlSTD, 2)\n",
    "print('Standar Deviasi dari BMI  adalah', round_BMI_std)\n",
    "\n",
    "# Menghitung Skewness dari BMI\n",
    "print('Nilai Skewness dari BMI adalah', df['bmi'].skew().round(2))\n",
    "\n",
    "# Menghitung Kurtosis dari BMI\n",
    "print('Nilai Kurtosis dari BMI adalah', df['bmi'].kurtosis().round(2))"
   ]
  },
  {
   "cell_type": "markdown",
   "metadata": {},
   "source": [
    "- Berdasarkan hasil analisis, diketahui bahwa rata-rata BMI peserta asuransi yaitu 31 kg dan median nya adalah 30 kg dengan BMI terbanyak pada 32.3kg\n",
    "\n",
    "- Berdasarkan hasil analisis menunjukkan bahwa data hampir berdistribusi normal diketahui dengan nilai median yang tidak terlalu berbeda dengan nilai mean. \n",
    "\n",
    "- Bedasarkan hasil tersebut diketahui juga bahwa semakin kecil nilai standar deviasi dari nilai mean maka data semakin serupa nilai nya pada kolom BMI atau semakin akurat dengan mean \n",
    "\n",
    "\n",
    "- Hasil tersebut menunjukkan bahwa memilki nilai skewness 0.28 yang artinya datanya hampir simetris karena berada diantara -0.5 dan 0.5. selain itu nilai kurtosis nya adalah -0,05 < 0 yang memiliki puncak yang lebih datar atau disebut juga dengan Platykurtic\n"
   ]
  },
  {
   "cell_type": "code",
   "execution_count": 15,
   "metadata": {},
   "outputs": [
    {
     "data": {
      "text/plain": [
       "<AxesSubplot:>"
      ]
     },
     "execution_count": 15,
     "metadata": {},
     "output_type": "execute_result"
    },
    {
     "data": {
      "image/png": "[encoded data removed]",
      "text/plain": [
       "<Figure size 1000x400 with 2 Axes>"
      ]
     },
     "metadata": {},
     "output_type": "display_data"
    }
   ],
   "source": [
    "# Visualisasi data kolom BMI\n",
    "fig, ax = plt.subplots(ncols=2,figsize=(10,4))\n",
    "\n",
    "df['bmi'].plot(kind='hist',bins=20,ax=ax[0])\n",
    "df['bmi'].plot(kind='box',ax=ax[1])"
   ]
  },
  {
   "cell_type": "markdown",
   "metadata": {},
   "source": [
    "- Berdasarkan grafik boxplot kolom usia menunjukkan terdapat sedikit data outlier dan pada grafik batang terlihat memiliki puncak yang lebih datar atau Platykurtic.\n"
   ]
  },
  {
   "cell_type": "markdown",
   "metadata": {},
   "source": [
    "##### Premi Asuransi Kesehatan\n"
   ]
  },
  {
   "cell_type": "code",
   "execution_count": 16,
   "metadata": {},
   "outputs": [
    {
     "name": "stdout",
     "output_type": "stream",
     "text": [
      "Mean dari premi adalah $13279.12\n",
      "Median dari premi adalah $9386.16\n",
      "Modus dari premi adalah $1121.8739\n",
      "Nilai Skewness dari premi adalah 1.52\n",
      "Nilai Kurtosis dari premi adalah 1.6\n"
     ]
    }
   ],
   "source": [
    "# Menghitung mean dari kolom premi\n",
    "charges_mean = df['charges'].mean()\n",
    "round_charges_mean = round(charges_mean,2)\n",
    "print(f\"Mean dari premi adalah ${round_charges_mean}\")\n",
    "\n",
    "# Menghitung median dari kolom premi\n",
    "charges_median = df['charges'].median()\n",
    "round_charges_median = round(charges_median,2)\n",
    "print(f\"Median dari premi adalah ${round_charges_median}\")\n",
    "\n",
    "# Menghitung modus dari kolom premi\n",
    "print(f\"Modus dari premi adalah ${df['charges'].mode()[0]}\")\n",
    "\n",
    "# Menghitung Skewness dari premi\n",
    "print('Nilai Skewness dari premi adalah', df['charges'].skew().round(2))\n",
    "\n",
    "# Menghitung Kurtosis dari premi\n",
    "print('Nilai Kurtosis dari premi adalah', df['charges'].kurtosis().round(2))"
   ]
  },
  {
   "cell_type": "markdown",
   "metadata": {},
   "source": [
    "- Berdasarkan hasil analisis, diketahui bahwa rata-rata biaya asuransi peserta asuransi sebesar $13279.12\n",
    "\n",
    "- Berdasarkan hasil analisis menunjukkan bahwa data tidak berdistribusi normal diketahui dengan nilai median < mean yang artinya kemiringan data ke arah kanan atau ekornya condong ke kanan (positiv skew).\n",
    "\n",
    "- Hasil tersebut menunjukkan bahwa biaya asuransi memilki nilai skewness 1.52 > 0 sehingga kemiringan data ke arah positif atau ekor condong ke bagian kanan dan memiliki data yang sangat miring karena hasil skewness nya yaitu < -1 dan > 1. Selain itu nilai kurtosis nya adalah 1.6 > 0  artinya memiliki keruncingan yang sangat tinggi atau distribusi Leptokurtik.\n"
   ]
  },
  {
   "cell_type": "code",
   "execution_count": 17,
   "metadata": {},
   "outputs": [
    {
     "data": {
      "text/plain": [
       "<AxesSubplot:>"
      ]
     },
     "execution_count": 17,
     "metadata": {},
     "output_type": "execute_result"
    },
    {
     "data": {
      "image/png": "[encoded data removed]",
      "text/plain": [
       "<Figure size 1000x400 with 2 Axes>"
      ]
     },
     "metadata": {},
     "output_type": "display_data"
    }
   ],
   "source": [
    "# Visualisasi data kolom charges\n",
    "fig, ax = plt.subplots(ncols=2,figsize=(10,4))\n",
    "\n",
    "df['charges'].plot(kind='hist',bins=20,ax=ax[0])\n",
    "df['charges'].plot(kind='box',ax=ax[1])"
   ]
  },
  {
   "cell_type": "markdown",
   "metadata": {},
   "source": [
    "- Berdasarkan grafik boxplot menunjukkan adanya data yang outlier. Selain itu grafik bar menunjukkan kemiringan data ke arah kanan atau ekornya condong ke kanan (positiv skew)."
   ]
  },
  {
   "cell_type": "code",
   "execution_count": 18,
   "metadata": {},
   "outputs": [],
   "source": [
    "# Menyalin DataFrame\n",
    "df_copy = df.copy()"
   ]
  },
  {
   "cell_type": "code",
   "execution_count": 19,
   "metadata": {},
   "outputs": [
    {
     "name": "stdout",
     "output_type": "stream",
     "text": [
      "<class 'pandas.core.frame.DataFrame'>\n",
      "Int64Index: 1337 entries, 0 to 1337\n",
      "Data columns (total 9 columns):\n",
      " #   Column        Non-Null Count  Dtype  \n",
      "---  ------        --------------  -----  \n",
      " 0   age           1337 non-null   int64  \n",
      " 1   sex           1337 non-null   object \n",
      " 2   bmi           1337 non-null   float64\n",
      " 3   children      1337 non-null   int64  \n",
      " 4   smoker        1337 non-null   object \n",
      " 5   region        1337 non-null   object \n",
      " 6   charges       1337 non-null   float64\n",
      " 7   age category  1337 non-null   object \n",
      " 8   bmi category  1337 non-null   object \n",
      "dtypes: float64(2), int64(2), object(5)\n",
      "memory usage: 104.5+ KB\n"
     ]
    }
   ],
   "source": [
    "df.info()"
   ]
  },
  {
   "cell_type": "code",
   "execution_count": 20,
   "metadata": {},
   "outputs": [
    {
     "name": "stdout",
     "output_type": "stream",
     "text": [
      "Batas Minimal kolom charges adalah: -13120.716174999998\n",
      "Batas Maksimal kolom charges adalah: 34524.777625\n",
      "Total outlier 139 data\n",
      "Persentase outlier pada kolom charges adalah sebesar 10.40%\n"
     ]
    }
   ],
   "source": [
    "# menghandling outlier pada kolom charges dengan tukey's rule\n",
    "\n",
    "q3 = df_copy['charges'].quantile(0.75)\n",
    "q1 = df_copy['charges'].quantile(0.25)\n",
    "\n",
    "iqr = q3 - q1\n",
    "\n",
    "min_boundary = q1 - (iqr * 1.5)\n",
    "max_boundary = q3 + (iqr * 1.5)\n",
    "\n",
    "print(f'Batas Minimal kolom charges adalah: {min_boundary}')\n",
    "print(f'Batas Maksimal kolom charges adalah: {max_boundary}')\n",
    "\n",
    "# Mendefinisikan data yang outlier untuk menghitung total outlier (| atau OR bitwise))\n",
    "outlier_chargesTotal = df_copy[(df_copy['charges'] < min_boundary) | (df_copy['charges'] > max_boundary)]\n",
    "\n",
    "print(f'Total outlier {len(outlier_chargesTotal)} data')\n",
    "print(f'Persentase outlier pada kolom charges adalah sebesar {len(outlier_chargesTotal)*100/len(df_copy[\"charges\"]):.2f}%')"
   ]
  },
  {
   "cell_type": "markdown",
   "metadata": {},
   "source": [
    "- Untuk menghapus nilai outlier menggunakan Tukey's Rule karena data tidak berdistribusi normal. Diketahui bahwa total outlier sebanyak 139 dari 1337 data atau sekitar 10.40% data ini memiliki outlier. Selanjutnya saya akan mendefinisikan DataFrame baru setelah outlier dihapus."
   ]
  },
  {
   "cell_type": "code",
   "execution_count": 21,
   "metadata": {},
   "outputs": [],
   "source": [
    "# mendefinisikan DataFrame baru tanpa outlier\n",
    "df_no_outlier = df_copy[(df_copy['charges'] >= min_boundary) & (df_copy['charges'] <= max_boundary)]"
   ]
  },
  {
   "cell_type": "code",
   "execution_count": 22,
   "metadata": {},
   "outputs": [
    {
     "data": {
      "text/plain": [
       "<AxesSubplot:>"
      ]
     },
     "execution_count": 22,
     "metadata": {},
     "output_type": "execute_result"
    },
    {
     "data": {
      "image/png": "[encoded data removed]",
      "text/plain": [
       "<Figure size 1000x400 with 2 Axes>"
      ]
     },
     "metadata": {},
     "output_type": "display_data"
    }
   ],
   "source": [
    "# melihat box plot untuk setelah menghilangkan outlier pada kolom charges\n",
    "fig, ax = plt.subplots(ncols=2,figsize=(10,4))\n",
    "df_no_outlier['charges'].plot(kind='hist',bins=20,ax=ax[0])\n",
    "df_no_outlier['charges'].plot(kind='box',ax=ax[1])"
   ]
  },
  {
   "cell_type": "markdown",
   "metadata": {},
   "source": [
    "- Meskipun sudah dilakukan penghapusan outlier, pada grafik boxplot masih terdapat outlier namuan persebaran datanya sudah cukup jelas."
   ]
  },
  {
   "cell_type": "code",
   "execution_count": 23,
   "metadata": {},
   "outputs": [
    {
     "name": "stdout",
     "output_type": "stream",
     "text": [
      "<class 'pandas.core.frame.DataFrame'>\n",
      "Int64Index: 1198 entries, 0 to 1337\n",
      "Data columns (total 9 columns):\n",
      " #   Column        Non-Null Count  Dtype  \n",
      "---  ------        --------------  -----  \n",
      " 0   age           1198 non-null   int64  \n",
      " 1   sex           1198 non-null   object \n",
      " 2   bmi           1198 non-null   float64\n",
      " 3   children      1198 non-null   int64  \n",
      " 4   smoker        1198 non-null   object \n",
      " 5   region        1198 non-null   object \n",
      " 6   charges       1198 non-null   float64\n",
      " 7   age category  1198 non-null   object \n",
      " 8   bmi category  1198 non-null   object \n",
      "dtypes: float64(2), int64(2), object(5)\n",
      "memory usage: 93.6+ KB\n"
     ]
    }
   ],
   "source": [
    "# Ringkasan informasi DataFrame setelah menghapus outlier\n",
    "df_no_outlier.info()"
   ]
  },
  {
   "cell_type": "markdown",
   "metadata": {},
   "source": [
    "- Pada DataFrame yang sudah dilakukan penghapusan outlier, data dari 1337 menjadi 1198 data. Hal ini karena terdapat 139 data telah di hapus. Oleh karena itu, untuk melakukan analisis data saya menggunakan DataFrame tanpa outlier karena keberadaan outlier dapat mempengaruhi hasil analisis. "
   ]
  },
  {
   "cell_type": "markdown",
   "metadata": {},
   "source": [
    "## **ANALISIS DATA**"
   ]
  },
  {
   "cell_type": "markdown",
   "metadata": {},
   "source": [
    "##### 1. Berapa rata-rata premi asuransi kesehatan yang harus dibayarkan oleh peserta asuransi? serta berapakah nilai terendah dan terbesarnya? (Visualisasi Statistika Deskriptif)"
   ]
  },
  {
   "cell_type": "code",
   "execution_count": 58,
   "metadata": {},
   "outputs": [
    {
     "name": "stdout",
     "output_type": "stream",
     "text": [
      "Mean dari Premi adalah 9934.671757970784\n",
      "Nilai terendah dari Premi adalah 1121.8739\n",
      "Nilai tertinggi dari Premi adalah 34472.841\n"
     ]
    }
   ],
   "source": [
    "meanPremi = df_no_outlier['charges'].mean()\n",
    "print('Mean dari Premi adalah', meanPremi)\n",
    "\n",
    "\n",
    "minPremi = df_no_outlier['charges'].min()\n",
    "print('Nilai terendah dari Premi adalah', minPremi)\n",
    "\n",
    "maxPremi = df_no_outlier['charges'].max()\n",
    "print('Nilai tertinggi dari Premi adalah', maxPremi)\n",
    "\n",
    "# Membuat DataFrame dengan data statistik\n",
    "data_statistik = {\n",
    "    'Statistik': ['Mean', 'Minimum', 'Maksimum'],\n",
    "    'Biaya Asuransi': [meanPremi, minPremi, minPremi]\n",
    "}"
   ]
  },
  {
   "cell_type": "markdown",
   "metadata": {},
   "source": [
    "Berdasarkan hasil tersebut, diketahui bahwa rata-rata premi yang dibayarkan oleh peserta asuransi sebesar $9934.67 dengan nilai terendah nya sebesar $1121.87 dan nilai tertinggi nya sebesar $34472.84."
   ]
  },
  {
   "cell_type": "code",
   "execution_count": 68,
   "metadata": {},
   "outputs": [
    {
     "data": {
      "image/png": "[encoded data removed]",
      "text/plain": [
       "<Figure size 800x600 with 1 Axes>"
      ]
     },
     "metadata": {},
     "output_type": "display_data"
    }
   ],
   "source": [
    "# Menampilkan visualisasi data menggunakan box plot \n",
    "plt.figure(figsize=(8, 6))\n",
    "sns.boxplot(y=\"charges\", color='magenta', data =df_no_outlier, width=0.4)\n",
    "plt.scatter(0, meanPremi, color='red', label='Mean', zorder=3)  \n",
    "plt.axhline(y=minPremi, color='green', linestyle='--', label='Minimum')  \n",
    "plt.axhline(y=maxPremi, color='blue', linestyle='--', label='Maksimum')  \n",
    "plt.legend()\n",
    "plt.title('Nilai Mean, Minimum dan Maximum dari Premi')\n",
    "plt.ylabel('Premi')\n",
    "plt.show()"
   ]
  },
  {
   "cell_type": "markdown",
   "metadata": {},
   "source": [
    "Berdasarkan boxplot tersebut diketahui pada kolom premi memiliki data outlier."
   ]
  },
  {
   "cell_type": "markdown",
   "metadata": {},
   "source": [
    "##### 2. Siapa yang memiliki rata-rata biaya asuransi paling tinggi? **(visualisasi 1)**"
   ]
  },
  {
   "cell_type": "markdown",
   "metadata": {},
   "source": [
    "##### Kategori Usia"
   ]
  },
  {
   "cell_type": "code",
   "execution_count": 25,
   "metadata": {},
   "outputs": [
    {
     "data": {
      "text/html": [
       "<div>\n",
       "<style scoped>\n",
       "    .dataframe tbody tr th:only-of-type {\n",
       "        vertical-align: middle;\n",
       "    }\n",
       "\n",
       "    .dataframe tbody tr th {\n",
       "        vertical-align: top;\n",
       "    }\n",
       "\n",
       "    .dataframe thead th {\n",
       "        text-align: right;\n",
       "    }\n",
       "</style>\n",
       "<table border=\"1\" class=\"dataframe\">\n",
       "  <thead>\n",
       "    <tr style=\"text-align: right;\">\n",
       "      <th></th>\n",
       "      <th>age category</th>\n",
       "      <th>charges</th>\n",
       "    </tr>\n",
       "  </thead>\n",
       "  <tbody>\n",
       "    <tr>\n",
       "      <th>1</th>\n",
       "      <td>Lansia</td>\n",
       "      <td>13702.375678</td>\n",
       "    </tr>\n",
       "    <tr>\n",
       "      <th>0</th>\n",
       "      <td>Dewasa</td>\n",
       "      <td>8004.349034</td>\n",
       "    </tr>\n",
       "    <tr>\n",
       "      <th>2</th>\n",
       "      <td>Remaja</td>\n",
       "      <td>6233.751946</td>\n",
       "    </tr>\n",
       "  </tbody>\n",
       "</table>\n",
       "</div>"
      ],
      "text/plain": [
       "  age category       charges\n",
       "1       Lansia  13702.375678\n",
       "0       Dewasa   8004.349034\n",
       "2       Remaja   6233.751946"
      ]
     },
     "execution_count": 25,
     "metadata": {},
     "output_type": "execute_result"
    }
   ],
   "source": [
    "# mengelompokan kelompok usia berdasarkan rata-rata premi\n",
    "age_result_no = df_no_outlier.groupby('age category')['charges'].mean().reset_index()\n",
    "age_result_no.sort_values(by='charges', ascending=False, inplace=True)\n",
    "pd.DataFrame(age_result_no)"
   ]
  },
  {
   "cell_type": "code",
   "execution_count": 26,
   "metadata": {},
   "outputs": [
    {
     "data": {
      "image/png": "[encoded data removed]",
      "text/plain": [
       "<Figure size 640x480 with 1 Axes>"
      ]
     },
     "metadata": {},
     "output_type": "display_data"
    }
   ],
   "source": [
    "# Membuat visualisasi data\n",
    "\n",
    "# Membuat bar chart \n",
    "sns.barplot(x='age category', y='charges', data=age_result_no, palette='gist_earth')\n",
    "\n",
    "# Menambahkan judul\n",
    "plt.title('Rata-rata Premi Berdasarkan Kategori Usia')\n",
    "\n",
    "# Mengganti label sumbu x dan y\n",
    "plt.xlabel('Kategori Usia')\n",
    "plt.ylabel('Rata-rata Premi')\n",
    "\n",
    "# Menampilkan bar chart \n",
    "plt.show()"
   ]
  },
  {
   "cell_type": "markdown",
   "metadata": {},
   "source": [
    "Berdasarkan hasil analisis, diketahui bahwa rata-rata premi yang dibayarkan oleh peserta asuransi paling banyak pada kategori  lansia sebesar $13702.37"
   ]
  },
  {
   "cell_type": "markdown",
   "metadata": {},
   "source": [
    "##### Jenis Kelamin"
   ]
  },
  {
   "cell_type": "code",
   "execution_count": 27,
   "metadata": {},
   "outputs": [
    {
     "data": {
      "text/html": [
       "<div>\n",
       "<style scoped>\n",
       "    .dataframe tbody tr th:only-of-type {\n",
       "        vertical-align: middle;\n",
       "    }\n",
       "\n",
       "    .dataframe tbody tr th {\n",
       "        vertical-align: top;\n",
       "    }\n",
       "\n",
       "    .dataframe thead th {\n",
       "        text-align: right;\n",
       "    }\n",
       "</style>\n",
       "<table border=\"1\" class=\"dataframe\">\n",
       "  <thead>\n",
       "    <tr style=\"text-align: right;\">\n",
       "      <th></th>\n",
       "      <th>sex</th>\n",
       "      <th>charges</th>\n",
       "    </tr>\n",
       "  </thead>\n",
       "  <tbody>\n",
       "    <tr>\n",
       "      <th>0</th>\n",
       "      <td>female</td>\n",
       "      <td>10100.424469</td>\n",
       "    </tr>\n",
       "    <tr>\n",
       "      <th>1</th>\n",
       "      <td>male</td>\n",
       "      <td>9761.564831</td>\n",
       "    </tr>\n",
       "  </tbody>\n",
       "</table>\n",
       "</div>"
      ],
      "text/plain": [
       "      sex       charges\n",
       "0  female  10100.424469\n",
       "1    male   9761.564831"
      ]
     },
     "execution_count": 27,
     "metadata": {},
     "output_type": "execute_result"
    }
   ],
   "source": [
    "# mengelompokan jenis kelamin berdasarkan rata-rata premi\n",
    "sex_result_no = df_no_outlier.groupby('sex')['charges'].mean().reset_index()\n",
    "sex_result_no.sort_values(by='charges', ascending=False, inplace=True)\n",
    "pd.DataFrame(sex_result_no)\n"
   ]
  },
  {
   "cell_type": "code",
   "execution_count": 28,
   "metadata": {},
   "outputs": [
    {
     "data": {
      "image/png": "[encoded data removed]",
      "text/plain": [
       "<Figure size 640x480 with 1 Axes>"
      ]
     },
     "metadata": {},
     "output_type": "display_data"
    }
   ],
   "source": [
    "# Membuat visualisasi data\n",
    "# Membuat bar chart\n",
    "sns.barplot(x='sex', y='charges', data=sex_result_no, palette='gist_earth')\n",
    "\n",
    "# Menambahkan judul\n",
    "plt.title('Rata-rata Premi Berdasarkan Jenis Kelamin')\n",
    "\n",
    "# Mengganti label sumbu x dan y\n",
    "plt.xlabel('Jenis Kelamin')\n",
    "plt.ylabel('Rata-rata Premi')\n",
    "\n",
    "# Menampilkan bar chart \n",
    "plt.show()"
   ]
  },
  {
   "cell_type": "markdown",
   "metadata": {},
   "source": [
    "Berdasarkan hasil analisis, diketahui bahwa rata-rata premi yang dibayarkan oleh peserta asuransi paling banyak pada jenis kelamin perempuan sebesar $10100.42"
   ]
  },
  {
   "cell_type": "markdown",
   "metadata": {},
   "source": [
    "##### Kategori BMI"
   ]
  },
  {
   "cell_type": "code",
   "execution_count": 29,
   "metadata": {},
   "outputs": [
    {
     "data": {
      "text/html": [
       "<div>\n",
       "<style scoped>\n",
       "    .dataframe tbody tr th:only-of-type {\n",
       "        vertical-align: middle;\n",
       "    }\n",
       "\n",
       "    .dataframe tbody tr th {\n",
       "        vertical-align: top;\n",
       "    }\n",
       "\n",
       "    .dataframe thead th {\n",
       "        text-align: right;\n",
       "    }\n",
       "</style>\n",
       "<table border=\"1\" class=\"dataframe\">\n",
       "  <thead>\n",
       "    <tr style=\"text-align: right;\">\n",
       "      <th></th>\n",
       "      <th>bmi category</th>\n",
       "      <th>charges</th>\n",
       "    </tr>\n",
       "  </thead>\n",
       "  <tbody>\n",
       "    <tr>\n",
       "      <th>2</th>\n",
       "      <td>Overweight</td>\n",
       "      <td>10741.081153</td>\n",
       "    </tr>\n",
       "    <tr>\n",
       "      <th>0</th>\n",
       "      <td>Normal weight</td>\n",
       "      <td>10267.780842</td>\n",
       "    </tr>\n",
       "    <tr>\n",
       "      <th>1</th>\n",
       "      <td>Obesity</td>\n",
       "      <td>9337.841843</td>\n",
       "    </tr>\n",
       "    <tr>\n",
       "      <th>3</th>\n",
       "      <td>Underweight</td>\n",
       "      <td>8852.200585</td>\n",
       "    </tr>\n",
       "  </tbody>\n",
       "</table>\n",
       "</div>"
      ],
      "text/plain": [
       "    bmi category       charges\n",
       "2     Overweight  10741.081153\n",
       "0  Normal weight  10267.780842\n",
       "1        Obesity   9337.841843\n",
       "3    Underweight   8852.200585"
      ]
     },
     "execution_count": 29,
     "metadata": {},
     "output_type": "execute_result"
    }
   ],
   "source": [
    "# mengelompokan kategori BMI berdasarkan rata-rata premi\n",
    "bmi_result_no= df_no_outlier.groupby('bmi category')['charges'].mean().reset_index()\n",
    "bmi_result_no.sort_values(by='charges', ascending=False, inplace=True)\n",
    "pd.DataFrame(bmi_result_no)"
   ]
  },
  {
   "cell_type": "code",
   "execution_count": 30,
   "metadata": {},
   "outputs": [
    {
     "data": {
      "image/png": "[encoded data removed]",
      "text/plain": [
       "<Figure size 640x480 with 1 Axes>"
      ]
     },
     "metadata": {},
     "output_type": "display_data"
    }
   ],
   "source": [
    "# Membuat visualisasi data\n",
    "# Membuat bar chart \n",
    "sns.barplot(x='bmi category', y='charges', data=bmi_result_no, palette='gist_earth')\n",
    "\n",
    "# Menambahkan judul\n",
    "plt.title('Rata-rata Premi Berdasarkan Kategori Berat Badan')\n",
    "\n",
    "# Mengganti label sumbu x dan y\n",
    "plt.xlabel('Kategori Berat Badan')\n",
    "plt.ylabel('Rata-rata Premi')\n",
    "\n",
    "# Menampilkan bar chart \n",
    "plt.show()"
   ]
  },
  {
   "cell_type": "markdown",
   "metadata": {},
   "source": [
    "Berdasarkan hasil analisis, diketahui bahwa rata-rata premi yang dibayarkan oleh peserta asuransi paling banyak pada kategori Overweight sebesar $10741.08"
   ]
  },
  {
   "cell_type": "markdown",
   "metadata": {},
   "source": [
    "##### Jumlah Anak"
   ]
  },
  {
   "cell_type": "code",
   "execution_count": 31,
   "metadata": {},
   "outputs": [
    {
     "data": {
      "text/html": [
       "<div>\n",
       "<style scoped>\n",
       "    .dataframe tbody tr th:only-of-type {\n",
       "        vertical-align: middle;\n",
       "    }\n",
       "\n",
       "    .dataframe tbody tr th {\n",
       "        vertical-align: top;\n",
       "    }\n",
       "\n",
       "    .dataframe thead th {\n",
       "        text-align: right;\n",
       "    }\n",
       "</style>\n",
       "<table border=\"1\" class=\"dataframe\">\n",
       "  <thead>\n",
       "    <tr style=\"text-align: right;\">\n",
       "      <th></th>\n",
       "      <th>children</th>\n",
       "      <th>charges</th>\n",
       "    </tr>\n",
       "  </thead>\n",
       "  <tbody>\n",
       "    <tr>\n",
       "      <th>4</th>\n",
       "      <td>4</td>\n",
       "      <td>11717.559983</td>\n",
       "    </tr>\n",
       "    <tr>\n",
       "      <th>3</th>\n",
       "      <td>3</td>\n",
       "      <td>11538.401820</td>\n",
       "    </tr>\n",
       "    <tr>\n",
       "      <th>2</th>\n",
       "      <td>2</td>\n",
       "      <td>10613.375596</td>\n",
       "    </tr>\n",
       "    <tr>\n",
       "      <th>1</th>\n",
       "      <td>1</td>\n",
       "      <td>9484.740273</td>\n",
       "    </tr>\n",
       "    <tr>\n",
       "      <th>0</th>\n",
       "      <td>0</td>\n",
       "      <td>9454.674220</td>\n",
       "    </tr>\n",
       "    <tr>\n",
       "      <th>5</th>\n",
       "      <td>5</td>\n",
       "      <td>8786.035247</td>\n",
       "    </tr>\n",
       "  </tbody>\n",
       "</table>\n",
       "</div>"
      ],
      "text/plain": [
       "   children       charges\n",
       "4         4  11717.559983\n",
       "3         3  11538.401820\n",
       "2         2  10613.375596\n",
       "1         1   9484.740273\n",
       "0         0   9454.674220\n",
       "5         5   8786.035247"
      ]
     },
     "execution_count": 31,
     "metadata": {},
     "output_type": "execute_result"
    }
   ],
   "source": [
    "# mengelompokan jumlah anak berdasarkan rata-rata premi\n",
    "children_result_no = df_no_outlier.groupby('children')['charges'].mean().reset_index()\n",
    "children_result_no.sort_values(by='charges', ascending=False, inplace=True)\n",
    "pd.DataFrame(children_result_no)"
   ]
  },
  {
   "cell_type": "code",
   "execution_count": 32,
   "metadata": {},
   "outputs": [
    {
     "data": {
      "image/png": "[encoded data removed]",
      "text/plain": [
       "<Figure size 640x480 with 1 Axes>"
      ]
     },
     "metadata": {},
     "output_type": "display_data"
    }
   ],
   "source": [
    "# Membuat visualisasi data\n",
    "# Membuat bar chart \n",
    "sns.barplot(x='children', y='charges', data=children_result_no, palette='gist_earth')\n",
    "\n",
    "# Menambahkan judul\n",
    "plt.title('Rata-rata Premi Berdasarkan Jumlah Anak')\n",
    "\n",
    "# Mengganti label sumbu x dan y\n",
    "plt.xlabel('Jumlah Anak')\n",
    "plt.ylabel('Rata-rata Premi')\n",
    "\n",
    "# Menampilkan bar chart \n",
    "plt.show()"
   ]
  },
  {
   "cell_type": "markdown",
   "metadata": {},
   "source": [
    "Berdasarkan hasil analisis, diketahui bahwa rata-rata premi yang dibayarkan oleh peserta asuransi paling banyak pada peserta yang memiliki jumlah anak sebanyak 4 orang dengan biaya sebesar $11717.55"
   ]
  },
  {
   "cell_type": "markdown",
   "metadata": {},
   "source": [
    "##### Status Merokok"
   ]
  },
  {
   "cell_type": "code",
   "execution_count": 33,
   "metadata": {},
   "outputs": [
    {
     "data": {
      "text/html": [
       "<div>\n",
       "<style scoped>\n",
       "    .dataframe tbody tr th:only-of-type {\n",
       "        vertical-align: middle;\n",
       "    }\n",
       "\n",
       "    .dataframe tbody tr th {\n",
       "        vertical-align: top;\n",
       "    }\n",
       "\n",
       "    .dataframe thead th {\n",
       "        text-align: right;\n",
       "    }\n",
       "</style>\n",
       "<table border=\"1\" class=\"dataframe\">\n",
       "  <thead>\n",
       "    <tr style=\"text-align: right;\">\n",
       "      <th></th>\n",
       "      <th>smoker</th>\n",
       "      <th>charges</th>\n",
       "    </tr>\n",
       "  </thead>\n",
       "  <tbody>\n",
       "    <tr>\n",
       "      <th>1</th>\n",
       "      <td>yes</td>\n",
       "      <td>22014.245543</td>\n",
       "    </tr>\n",
       "    <tr>\n",
       "      <th>0</th>\n",
       "      <td>no</td>\n",
       "      <td>8362.048001</td>\n",
       "    </tr>\n",
       "  </tbody>\n",
       "</table>\n",
       "</div>"
      ],
      "text/plain": [
       "  smoker       charges\n",
       "1    yes  22014.245543\n",
       "0     no   8362.048001"
      ]
     },
     "execution_count": 33,
     "metadata": {},
     "output_type": "execute_result"
    }
   ],
   "source": [
    "# mengelompokan status merokok berdasarkan rata-rata premi\n",
    "smoking_result_no = df_no_outlier.groupby('smoker')['charges'].mean().reset_index()\n",
    "smoking_result_no.sort_values(by='charges', ascending=False, inplace=True)\n",
    "pd.DataFrame(smoking_result_no)"
   ]
  },
  {
   "cell_type": "code",
   "execution_count": 34,
   "metadata": {},
   "outputs": [
    {
     "data": {
      "image/png": "[encoded data removed]",
      "text/plain": [
       "<Figure size 640x480 with 1 Axes>"
      ]
     },
     "metadata": {},
     "output_type": "display_data"
    }
   ],
   "source": [
    "# Membuat visualisasi data\n",
    "# Membuat bar chart \n",
    "sns.barplot(x='smoker', y='charges', data=smoking_result_no, palette='gist_earth')\n",
    "\n",
    "# Menambahkan judul\n",
    "plt.title('Rata-rata Premi Berdasarkan Status Merokok')\n",
    "\n",
    "# Mengganti label sumbu x dan y\n",
    "plt.xlabel('Status Merokok')\n",
    "plt.ylabel('Rata-rata Premi')\n",
    "\n",
    "# Menampilkan bar chart \n",
    "plt.show()"
   ]
  },
  {
   "cell_type": "markdown",
   "metadata": {},
   "source": [
    "Berdasarkan hasil analisis, diketahui bahwa rata-rata premi yang dibayarkan oleh peserta asuransi paling banyak pada yang merokok sebesar $22014.24"
   ]
  },
  {
   "cell_type": "markdown",
   "metadata": {},
   "source": [
    "##### 3.  Di wilayah mana rata-rata premi paling tinggi? **(visualisasi 2)**"
   ]
  },
  {
   "cell_type": "code",
   "execution_count": 35,
   "metadata": {},
   "outputs": [
    {
     "data": {
      "text/html": [
       "<div>\n",
       "<style scoped>\n",
       "    .dataframe tbody tr th:only-of-type {\n",
       "        vertical-align: middle;\n",
       "    }\n",
       "\n",
       "    .dataframe tbody tr th {\n",
       "        vertical-align: top;\n",
       "    }\n",
       "\n",
       "    .dataframe thead th {\n",
       "        text-align: right;\n",
       "    }\n",
       "</style>\n",
       "<table border=\"1\" class=\"dataframe\">\n",
       "  <thead>\n",
       "    <tr style=\"text-align: right;\">\n",
       "      <th></th>\n",
       "      <th>region</th>\n",
       "      <th>charges</th>\n",
       "    </tr>\n",
       "  </thead>\n",
       "  <tbody>\n",
       "    <tr>\n",
       "      <th>0</th>\n",
       "      <td>northeast</td>\n",
       "      <td>10736.262980</td>\n",
       "    </tr>\n",
       "    <tr>\n",
       "      <th>1</th>\n",
       "      <td>northwest</td>\n",
       "      <td>10392.290654</td>\n",
       "    </tr>\n",
       "    <tr>\n",
       "      <th>2</th>\n",
       "      <td>southeast</td>\n",
       "      <td>9574.280940</td>\n",
       "    </tr>\n",
       "    <tr>\n",
       "      <th>3</th>\n",
       "      <td>southwest</td>\n",
       "      <td>9021.451259</td>\n",
       "    </tr>\n",
       "  </tbody>\n",
       "</table>\n",
       "</div>"
      ],
      "text/plain": [
       "      region       charges\n",
       "0  northeast  10736.262980\n",
       "1  northwest  10392.290654\n",
       "2  southeast   9574.280940\n",
       "3  southwest   9021.451259"
      ]
     },
     "execution_count": 35,
     "metadata": {},
     "output_type": "execute_result"
    }
   ],
   "source": [
    "# mengelompokan region berdasarkan rata-rata premi\n",
    "region_result_no = df_no_outlier.groupby('region')['charges'].mean().reset_index()\n",
    "region_result_no.sort_values(by='charges', ascending=False, inplace=True)\n",
    "pd.DataFrame(region_result_no)"
   ]
  },
  {
   "cell_type": "code",
   "execution_count": 36,
   "metadata": {},
   "outputs": [
    {
     "data": {
      "image/png": "[encoded data removed]",
      "text/plain": [
       "<Figure size 640x480 with 1 Axes>"
      ]
     },
     "metadata": {},
     "output_type": "display_data"
    }
   ],
   "source": [
    "# Membuat visualisasi data\n",
    "\n",
    "# Membuat bar chart \n",
    "sns.barplot(x='region', y='charges', data=region_result_no, palette='gist_earth')\n",
    "\n",
    "# Menampilkan grid\n",
    "sns.set(style=\"whitegrid\")\n",
    "\n",
    "# Menambahkan judul\n",
    "plt.title('Rata-rata Premi Berdasarkan Wilayah')\n",
    "\n",
    "# Mengganti label sumbu x dan y\n",
    "plt.xlabel('Wilayah')\n",
    "plt.ylabel('Rata-rata Premi')\n",
    "\n",
    "\n",
    "# Menampilkan bar chart \n",
    "plt.show()"
   ]
  },
  {
   "cell_type": "markdown",
   "metadata": {},
   "source": [
    "Berdasarkan hasil analisis, diketahui bahwa rata-rata premi yang dibayarkan oleh peserta asuransi paling banyak pada wilayah Northeast sebesar $10736.26"
   ]
  },
  {
   "cell_type": "markdown",
   "metadata": {},
   "source": [
    "##### 4. Berapa premi peserta berdasarkan Kategori Status Merokok dan Kategori Berat Badan? **(visualisasi 3)**"
   ]
  },
  {
   "cell_type": "code",
   "execution_count": 37,
   "metadata": {},
   "outputs": [
    {
     "data": {
      "text/html": [
       "<div>\n",
       "<style scoped>\n",
       "    .dataframe tbody tr th:only-of-type {\n",
       "        vertical-align: middle;\n",
       "    }\n",
       "\n",
       "    .dataframe tbody tr th {\n",
       "        vertical-align: top;\n",
       "    }\n",
       "\n",
       "    .dataframe thead tr th {\n",
       "        text-align: left;\n",
       "    }\n",
       "\n",
       "    .dataframe thead tr:last-of-type th {\n",
       "        text-align: right;\n",
       "    }\n",
       "</style>\n",
       "<table border=\"1\" class=\"dataframe\">\n",
       "  <thead>\n",
       "    <tr>\n",
       "      <th></th>\n",
       "      <th></th>\n",
       "      <th>charges</th>\n",
       "    </tr>\n",
       "    <tr>\n",
       "      <th></th>\n",
       "      <th></th>\n",
       "      <th>mean</th>\n",
       "    </tr>\n",
       "    <tr>\n",
       "      <th>smoker</th>\n",
       "      <th>bmi category</th>\n",
       "      <th></th>\n",
       "    </tr>\n",
       "  </thead>\n",
       "  <tbody>\n",
       "    <tr>\n",
       "      <th rowspan=\"4\" valign=\"top\">yes</th>\n",
       "      <th>Obesity</th>\n",
       "      <td>32120.489730</td>\n",
       "    </tr>\n",
       "    <tr>\n",
       "      <th>Overweight</th>\n",
       "      <td>21740.110240</td>\n",
       "    </tr>\n",
       "    <tr>\n",
       "      <th>Normal weight</th>\n",
       "      <td>19633.506277</td>\n",
       "    </tr>\n",
       "    <tr>\n",
       "      <th>Underweight</th>\n",
       "      <td>18809.824980</td>\n",
       "    </tr>\n",
       "    <tr>\n",
       "      <th rowspan=\"4\" valign=\"top\">no</th>\n",
       "      <th>Obesity</th>\n",
       "      <td>8740.394783</td>\n",
       "    </tr>\n",
       "    <tr>\n",
       "      <th>Overweight</th>\n",
       "      <td>8219.709036</td>\n",
       "    </tr>\n",
       "    <tr>\n",
       "      <th>Normal weight</th>\n",
       "      <td>7599.638131</td>\n",
       "    </tr>\n",
       "    <tr>\n",
       "      <th>Underweight</th>\n",
       "      <td>5532.992453</td>\n",
       "    </tr>\n",
       "  </tbody>\n",
       "</table>\n",
       "</div>"
      ],
      "text/plain": [
       "                           charges\n",
       "                              mean\n",
       "smoker bmi category               \n",
       "yes    Obesity        32120.489730\n",
       "       Overweight     21740.110240\n",
       "       Normal weight  19633.506277\n",
       "       Underweight    18809.824980\n",
       "no     Obesity         8740.394783\n",
       "       Overweight      8219.709036\n",
       "       Normal weight   7599.638131\n",
       "       Underweight     5532.992453"
      ]
     },
     "execution_count": 37,
     "metadata": {},
     "output_type": "execute_result"
    }
   ],
   "source": [
    "# menghitung rata-rata premi dalam setiap kelompok\n",
    "smoker_BMI_no = df_no_outlier.groupby([\"smoker\", \"bmi category\"]).agg({\"charges\" :[\"mean\"]})\n",
    "\n",
    "# mengurutkan urutan data dari yang tertinggi\n",
    "smoker_BMI_no.sort_values(by=('charges', 'mean'), ascending=False, inplace=True)\n",
    "pd.DataFrame(smoker_BMI_no)"
   ]
  },
  {
   "cell_type": "code",
   "execution_count": 38,
   "metadata": {},
   "outputs": [
    {
     "data": {
      "image/png": "[encoded data removed]",
      "text/plain": [
       "<Figure size 800x400 with 1 Axes>"
      ]
     },
     "metadata": {},
     "output_type": "display_data"
    }
   ],
   "source": [
    "# Membuat visualisasi data\n",
    "# Menampilkan grid\n",
    "sns.set(style=\"whitegrid\")\n",
    "\n",
    "# Menghapus indeks multi-level\n",
    "smoker_BMI_no.reset_index(inplace=True)\n",
    "\n",
    "# Membuat bar chart \n",
    "plt.figure(figsize=(8,4))\n",
    "sns.barplot(data=smoker_BMI_no, x='bmi category', y=('charges', 'mean'), hue='smoker', palette='gist_earth')\n",
    "\n",
    "# Menambahkan judul dan label sumbu\n",
    "plt.title('Rata-Rata Premi Berdasarkan Status Merokok dan Kategori Berat Badan')\n",
    "plt.xlabel('Kategori Berat Badan')\n",
    "plt.ylabel('Rata-Rata Premi')\n",
    "\n",
    "# Menambahkan legenda\n",
    "plt.legend(title='Status Merokok')\n",
    "\n",
    "# Menampilkan bar chart\n",
    "plt.show()\n"
   ]
  },
  {
   "cell_type": "markdown",
   "metadata": {},
   "source": [
    "- Berdasarkan hasil analisis diketahui bahwa peserta asuransi yang merokok dan memiliki berat badan dengan kategori obesitas memiliki rata-rata premi yang tinggi yaitu sebesar $32120.48 sedangkan pada peserta asuransi yang merokok dan berat badan dengan kategori underweight memiliki rata-rata premi yang rendah yaitu sebesar $18809.82\n",
    "\n",
    "- Untuk peserta asuransi yang tidak merokok dan memiliki berat badan dengan kategori obesitas juga memiliki rata-rata premi yang tinggi yaitu sebesar $8740.39 sedangkan pada peserta asuransi yang tidak merokok dan berat badan dengan kategori underweight memiliki rata-rata premi yang rendah yaitu sebesar $5532.99"
   ]
  },
  {
   "cell_type": "markdown",
   "metadata": {},
   "source": [
    "##### 5. Berapa premi rata-rata peserta berdasarkan jenis kelamin dan kategori usia? **(visualisasi 4)**"
   ]
  },
  {
   "cell_type": "code",
   "execution_count": 39,
   "metadata": {},
   "outputs": [
    {
     "data": {
      "text/html": [
       "<div>\n",
       "<style scoped>\n",
       "    .dataframe tbody tr th:only-of-type {\n",
       "        vertical-align: middle;\n",
       "    }\n",
       "\n",
       "    .dataframe tbody tr th {\n",
       "        vertical-align: top;\n",
       "    }\n",
       "\n",
       "    .dataframe thead tr th {\n",
       "        text-align: left;\n",
       "    }\n",
       "\n",
       "    .dataframe thead tr:last-of-type th {\n",
       "        text-align: right;\n",
       "    }\n",
       "</style>\n",
       "<table border=\"1\" class=\"dataframe\">\n",
       "  <thead>\n",
       "    <tr>\n",
       "      <th></th>\n",
       "      <th></th>\n",
       "      <th>charges</th>\n",
       "    </tr>\n",
       "    <tr>\n",
       "      <th></th>\n",
       "      <th></th>\n",
       "      <th>mean</th>\n",
       "    </tr>\n",
       "    <tr>\n",
       "      <th>sex</th>\n",
       "      <th>age category</th>\n",
       "      <th></th>\n",
       "    </tr>\n",
       "  </thead>\n",
       "  <tbody>\n",
       "    <tr>\n",
       "      <th>female</th>\n",
       "      <th>Lansia</th>\n",
       "      <td>13858.971222</td>\n",
       "    </tr>\n",
       "    <tr>\n",
       "      <th>male</th>\n",
       "      <th>Lansia</th>\n",
       "      <td>13531.811517</td>\n",
       "    </tr>\n",
       "    <tr>\n",
       "      <th>female</th>\n",
       "      <th>Dewasa</th>\n",
       "      <td>8119.474954</td>\n",
       "    </tr>\n",
       "    <tr>\n",
       "      <th rowspan=\"2\" valign=\"top\">male</th>\n",
       "      <th>Dewasa</th>\n",
       "      <td>7885.869932</td>\n",
       "    </tr>\n",
       "    <tr>\n",
       "      <th>Remaja</th>\n",
       "      <td>6269.802018</td>\n",
       "    </tr>\n",
       "    <tr>\n",
       "      <th>female</th>\n",
       "      <th>Remaja</th>\n",
       "      <td>6196.538970</td>\n",
       "    </tr>\n",
       "  </tbody>\n",
       "</table>\n",
       "</div>"
      ],
      "text/plain": [
       "                          charges\n",
       "                             mean\n",
       "sex    age category              \n",
       "female Lansia        13858.971222\n",
       "male   Lansia        13531.811517\n",
       "female Dewasa         8119.474954\n",
       "male   Dewasa         7885.869932\n",
       "       Remaja         6269.802018\n",
       "female Remaja         6196.538970"
      ]
     },
     "execution_count": 39,
     "metadata": {},
     "output_type": "execute_result"
    }
   ],
   "source": [
    "#menghitung rata-rata premi dalam setiap kelompok\n",
    "sex_ageCat_no = df_no_outlier.groupby([\"sex\", \"age category\"]).agg({\"charges\" :[\"mean\"]})\n",
    "\n",
    "# mengurutkan urutan data dari yang tertinggi\n",
    "sex_ageCat_no.sort_values(by=('charges', 'mean'), ascending=False, inplace=True)\n",
    "pd.DataFrame(sex_ageCat_no)"
   ]
  },
  {
   "cell_type": "code",
   "execution_count": 40,
   "metadata": {},
   "outputs": [
    {
     "data": {
      "image/png": "[encoded data removed]",
      "text/plain": [
       "<Figure size 800x400 with 1 Axes>"
      ]
     },
     "metadata": {},
     "output_type": "display_data"
    }
   ],
   "source": [
    "# Membuat visualisasi data\n",
    "# Menampilkan grid\n",
    "sns.set(style=\"whitegrid\")\n",
    "\n",
    "# Menghapus indeks multi-level\n",
    "sex_ageCat_no.reset_index(inplace=True)\n",
    "\n",
    "# Membuat bar chart \n",
    "plt.figure(figsize=(8, 4))\n",
    "sns.barplot(data=sex_ageCat_no, x='age category', y=('charges', 'mean'), hue='sex', palette='gist_earth')\n",
    "\n",
    "# Menambahkan judul dan label sumbu\n",
    "plt.title('Rata-Rata Premi Berdasarkan Jenis Kelamin dan Kategori Usia')\n",
    "plt.xlabel('Kategori Usia')\n",
    "plt.ylabel('Rata-Rata Premi')\n",
    "\n",
    "# Menambahkan legenda\n",
    "plt.legend(title='Jenis Kelamin')\n",
    "\n",
    "# Menampilkan bar chart\n",
    "plt.show()\n"
   ]
  },
  {
   "cell_type": "markdown",
   "metadata": {},
   "source": [
    "- Berdasarkan hasil analisis diketahui peserta asuransi lansia dan berjenis kelamin perempuan memiliki rata-rata premi yang tinggi sebesar $13858.97\n",
    "\n",
    "- Berdasarkan hasil analisis diketahui peserta asuransi dewasa dan berjenis kelamin perempuan  memiliki rata-rata premi yang tinggi sebesar $8119.47\n",
    "\n",
    "- Berdasarkan hasil analisis diketahui peserta asuransi remaja dan berjenis kelamin laki-laki memiliki rata-rata premi yang tinggi sebesar $6269.80\n"
   ]
  },
  {
   "cell_type": "markdown",
   "metadata": {},
   "source": [
    "##### 6. Apakah terdapat hubungan antara kategori usia, jenis kelamin, kategori berat badan, jumlah anak, status merokok dan wilayah dengan kelompok premi yang dibayarkan oleh peserta Asuransi? **(uji hipotesis chi-square)** \n",
    "\n"
   ]
  },
  {
   "cell_type": "markdown",
   "metadata": {},
   "source": [
    "Dalam menjawab pertanyaan ini, saya akan membuat kolom baru untuk kategori premi berdasarkan rata-rata premi dan selanjutnya akan dianalisis dengan uji chi-square pada variabel kategori usia, jenis kelamin, kategori berat badan, jumlah anak, status merokok, wilayah terhadap kelompok premi (Murah dan Mahal) yang dibayarkan oleh peserta Asuransi."
   ]
  },
  {
   "cell_type": "markdown",
   "metadata": {},
   "source": [
    "##### Membuat Kolom Baru 'Charges Category'"
   ]
  },
  {
   "cell_type": "code",
   "execution_count": 41,
   "metadata": {},
   "outputs": [
    {
     "name": "stdout",
     "output_type": "stream",
     "text": [
      "      age     sex     bmi  children smoker     region      charges  \\\n",
      "0      19  female  27.900         0    yes  southwest  16884.92400   \n",
      "1      18    male  33.770         1     no  southeast   1725.55230   \n",
      "2      28    male  33.000         3     no  southeast   4449.46200   \n",
      "3      33    male  22.705         0     no  northwest  21984.47061   \n",
      "4      32    male  28.880         0     no  northwest   3866.85520   \n",
      "...   ...     ...     ...       ...    ...        ...          ...   \n",
      "1333   50    male  30.970         3     no  northwest  10600.54830   \n",
      "1334   18  female  31.920         0     no  northeast   2205.98080   \n",
      "1335   18  female  36.850         0     no  southeast   1629.83350   \n",
      "1336   21  female  25.800         0     no  southwest   2007.94500   \n",
      "1337   61  female  29.070         0    yes  northwest  29141.36030   \n",
      "\n",
      "     age category   bmi category charges category  \n",
      "0          Remaja     Overweight            Mahal  \n",
      "1          Remaja        Obesity            Murah  \n",
      "2          Dewasa        Obesity            Murah  \n",
      "3          Dewasa  Normal weight            Mahal  \n",
      "4          Dewasa     Overweight            Murah  \n",
      "...           ...            ...              ...  \n",
      "1333       Lansia        Obesity            Mahal  \n",
      "1334       Remaja        Obesity            Murah  \n",
      "1335       Remaja        Obesity            Murah  \n",
      "1336       Dewasa     Overweight            Murah  \n",
      "1337       Lansia     Overweight            Mahal  \n",
      "\n",
      "[1198 rows x 10 columns]\n"
     ]
    },
    {
     "name": "stderr",
     "output_type": "stream",
     "text": [
      "C:\\Users\\irfan\\AppData\\Local\\Temp\\ipykernel_19716\\2274339516.py:12: SettingWithCopyWarning: \n",
      "A value is trying to be set on a copy of a slice from a DataFrame.\n",
      "Try using .loc[row_indexer,col_indexer] = value instead\n",
      "\n",
      "See the caveats in the documentation: https://pandas.pydata.org/pandas-docs/stable/user_guide/indexing.html#returning-a-view-versus-a-copy\n",
      "  df_no_outlier['charges category'] = df_no_outlier['charges'].apply(category_charges)\n"
     ]
    }
   ],
   "source": [
    "# Menghitung rata-rata premi\n",
    "mean_charges_no = df_no_outlier['charges'].mean()\n",
    "\n",
    "# Membuat kategori charges setelah data outlier di hapus\n",
    "def category_charges(charges):\n",
    "    if charges <= mean_charges_no:\n",
    "        return 'Murah'\n",
    "    else:\n",
    "        return 'Mahal'\n",
    "\n",
    "# Membuat kategori baru menggunakan apply()\n",
    "df_no_outlier['charges category'] = df_no_outlier['charges'].apply(category_charges)\n",
    "\n",
    "# Menampilkan DataFrame\n",
    "print(df_no_outlier)"
   ]
  },
  {
   "cell_type": "markdown",
   "metadata": {},
   "source": [
    "### Hipotesis\n",
    "\n",
    "Untuk melakukan pengujian, perlu mendefinisikan hipotesis:\n",
    "\n",
    "\n",
    "**H0**: Tidak terdapat hubungan yang signifikan antara  kategori usia, jenis kelamin, kategori berat badan, jumlah anak, status merokok dan wilayah dengan kelompok premi yang dibayarkan oleh peserta asuransi  _(Variabel dan kelompok premi saling bergantung (dependen))_\n",
    "\n",
    "**Ha**: Terdapat hubungan yang signifikan antara  kategori usia, jenis kelamin, kategori BMI, jumlah anak, status merokok dan wilayah dengan kelompok premi yang dibayarkan oleh peserta asuransi. _(Variabel dan kelompok premi bersifat independen)_\n",
    "\n",
    "Pengujian menggunakan tingkat kepercayaan 95% (CI95% dan alpha 5%)"
   ]
  },
  {
   "cell_type": "code",
   "execution_count": 42,
   "metadata": {},
   "outputs": [
    {
     "data": {
      "text/plain": [
       "Murah    708\n",
       "Mahal    490\n",
       "Name: charges category, dtype: int64"
      ]
     },
     "execution_count": 42,
     "metadata": {},
     "output_type": "execute_result"
    }
   ],
   "source": [
    "# Menampilkan berapa banyak peserta asuransi berdasarkan kategori premi\n",
    "df_no_outlier['charges category'].value_counts()"
   ]
  },
  {
   "cell_type": "code",
   "execution_count": 43,
   "metadata": {},
   "outputs": [
    {
     "name": "stdout",
     "output_type": "stream",
     "text": [
      "Nilai pvalue dari sex dan kategori premi adalah 0.3984547512512061 ,\n",
      "\n",
      "Nilai pvalue dari children dan kategori premi adalah 0.00042919848913563607 dan terdapat hubungan antar variabel (dependent),\n",
      "\n",
      "Nilai pvalue dari smoker dan kategori premi adalah 2.450248657507703e-50 dan terdapat hubungan antar variabel (dependent),\n",
      "\n",
      "Nilai pvalue dari region dan kategori premi adalah 0.06536005673097962 ,\n",
      "\n",
      "Nilai pvalue dari age category dan kategori premi adalah 4.757325481707912e-75 dan terdapat hubungan antar variabel (dependent),\n",
      "\n",
      "Nilai pvalue dari bmi category dan kategori premi adalah 0.3502992741218164 ,\n",
      "\n"
     ]
    }
   ],
   "source": [
    "# melakukan uji hipotesis\n",
    "\n",
    "from scipy.stats import chi2_contingency\n",
    "\n",
    "# Menghilangkan kolom numerik pada variabel column supaya tidak ikut di analisis\n",
    "column = df_no_outlier.drop(columns=['age', 'bmi', 'charges', 'charges category']).columns\n",
    "\n",
    "for pv in column:\n",
    "    cross = pd.crosstab(df_no_outlier[pv], df_no_outlier['charges category'])\n",
    "    \n",
    "    # Melakukan perhitungan uji chi square\n",
    "    chi2_stat, pval, dof, expected = chi2_contingency(cross)  # Mengakses p-value dari tuple yang dikembalikan\n",
    "    \n",
    "    # Menampilkan pesan apakah setiap kolom berhubungan atau tidak\n",
    "    pesan = \"dan terdapat hubungan antar variabel (dependent)\" if pval < 0.05 else \"\"\n",
    "\n",
    "    # Menampilkan nilai p-value \n",
    "    print(f\"Nilai pvalue dari {pv} dan kategori premi adalah {pval} {pesan},\\n\")\n"
   ]
  },
  {
   "cell_type": "markdown",
   "metadata": {},
   "source": [
    "**Critical value: 0.05**\n",
    "\n",
    "- Berdasarkan hasil analisis diketahui bahwa terdapat hubungan antara jumlah anak < 0.05 (critical value) dengan kelompok premi yang harus dibayarkan oleh peserta asuransi.\n",
    "\n",
    "- Berdasarkan hasil analisis diketahui bahwa terdapat hubungan antara status merokok < 0.05 (critical value) dengan kelompok premi yang harus dibayarkan oleh peserta asuransi.\n",
    "\n",
    "- Berdasarkan hasil analisis diketahui bahwa terdapat hubungan antara kelompok usia < 0.05 (critical value) dengan kelompok premi yang harus dibayarkan oleh peserta asuransi.\n",
    "\n",
    "**Dapat ditarik kesimpulan bahwa H0 ditolak, yaitu Terdapat hubungan antara jumlah anak, status merokok, dan kelompok usia terhadap kelompok premi yang harus dibayarkan oleh peserta asuransi**"
   ]
  },
  {
   "cell_type": "code",
   "execution_count": 44,
   "metadata": {},
   "outputs": [
    {
     "data": {
      "text/html": [
       "<div>\n",
       "<style scoped>\n",
       "    .dataframe tbody tr th:only-of-type {\n",
       "        vertical-align: middle;\n",
       "    }\n",
       "\n",
       "    .dataframe tbody tr th {\n",
       "        vertical-align: top;\n",
       "    }\n",
       "\n",
       "    .dataframe thead th {\n",
       "        text-align: right;\n",
       "    }\n",
       "</style>\n",
       "<table border=\"1\" class=\"dataframe\">\n",
       "  <thead>\n",
       "    <tr style=\"text-align: right;\">\n",
       "      <th>charges category</th>\n",
       "      <th>Mahal</th>\n",
       "      <th>Murah</th>\n",
       "    </tr>\n",
       "    <tr>\n",
       "      <th>children</th>\n",
       "      <th></th>\n",
       "      <th></th>\n",
       "    </tr>\n",
       "  </thead>\n",
       "  <tbody>\n",
       "    <tr>\n",
       "      <th>0</th>\n",
       "      <td>231</td>\n",
       "      <td>290</td>\n",
       "    </tr>\n",
       "    <tr>\n",
       "      <th>1</th>\n",
       "      <td>93</td>\n",
       "      <td>199</td>\n",
       "    </tr>\n",
       "    <tr>\n",
       "      <th>2</th>\n",
       "      <td>80</td>\n",
       "      <td>126</td>\n",
       "    </tr>\n",
       "    <tr>\n",
       "      <th>3</th>\n",
       "      <td>66</td>\n",
       "      <td>72</td>\n",
       "    </tr>\n",
       "    <tr>\n",
       "      <th>4</th>\n",
       "      <td>15</td>\n",
       "      <td>8</td>\n",
       "    </tr>\n",
       "    <tr>\n",
       "      <th>5</th>\n",
       "      <td>5</td>\n",
       "      <td>13</td>\n",
       "    </tr>\n",
       "  </tbody>\n",
       "</table>\n",
       "</div>"
      ],
      "text/plain": [
       "charges category  Mahal  Murah\n",
       "children                      \n",
       "0                   231    290\n",
       "1                    93    199\n",
       "2                    80    126\n",
       "3                    66     72\n",
       "4                    15      8\n",
       "5                     5     13"
      ]
     },
     "execution_count": 44,
     "metadata": {},
     "output_type": "execute_result"
    }
   ],
   "source": [
    "# Menampilkan Contingency Table Jumlah Anak dengan Kelompok Premi\n",
    "olr_contingency_table_children = pd.crosstab(df_no_outlier['children'],df_no_outlier['charges category'])\n",
    "olr_contingency_table_children"
   ]
  },
  {
   "cell_type": "markdown",
   "metadata": {},
   "source": [
    "- Pada hasil tabel kontingensi diketahui bahwa sebanyak 231 peserta asuransi yang tidak memiliki anak mendapatkan kelompok premi yang mahal dan sebanyak 290 peserta yang memiliki kelompok premi yang murah. \n",
    "\n",
    "- Peserta asuransi yang memiliki jumlah 1 anak mendapatkan kelompok premi mahal sebanyak 93 orang dan 199 orang mendapatkan kelompok premi yang murah.\n",
    "\n",
    "- Peserta asuransi yang memiliki jumlah 2 anak mendapatkan kelompok premi mahal sebanyak 80 orang dan 126 orang mendapatkan kelompok premi yang murah.\n",
    "\n",
    "- Peserta asuransi yang memiliki jumlah 3 anak mendapatkan kelompok premi mahal sebanyak 66 orang dan 72 orang mendapatkan kelompok premi yang murah.\n",
    "\n",
    "- Peserta asuransi yang memiliki jumlah 4 anak mendapatkan kelompok premi mahal sebanyak 15 orang dan 8 orang mendapatkan kelompok premi yang murah.\n",
    "\n",
    "- Peserta asuransi yang memiliki jumlah 5 anak mendapatkan kelompok premi mahal sebanyak 5 orang dan 13 orang mendapatkan kelompok premi yang murah."
   ]
  },
  {
   "cell_type": "code",
   "execution_count": null,
   "metadata": {},
   "outputs": [
    {
     "data": {
      "text/html": [
       "<div>\n",
       "<style scoped>\n",
       "    .dataframe tbody tr th:only-of-type {\n",
       "        vertical-align: middle;\n",
       "    }\n",
       "\n",
       "    .dataframe tbody tr th {\n",
       "        vertical-align: top;\n",
       "    }\n",
       "\n",
       "    .dataframe thead th {\n",
       "        text-align: right;\n",
       "    }\n",
       "</style>\n",
       "<table border=\"1\" class=\"dataframe\">\n",
       "  <thead>\n",
       "    <tr style=\"text-align: right;\">\n",
       "      <th>charges category</th>\n",
       "      <th>Mahal</th>\n",
       "      <th>Murah</th>\n",
       "    </tr>\n",
       "    <tr>\n",
       "      <th>smoker</th>\n",
       "      <th></th>\n",
       "      <th></th>\n",
       "    </tr>\n",
       "  </thead>\n",
       "  <tbody>\n",
       "    <tr>\n",
       "      <th>no</th>\n",
       "      <td>352</td>\n",
       "      <td>708</td>\n",
       "    </tr>\n",
       "    <tr>\n",
       "      <th>yes</th>\n",
       "      <td>138</td>\n",
       "      <td>0</td>\n",
       "    </tr>\n",
       "  </tbody>\n",
       "</table>\n",
       "</div>"
      ],
      "text/plain": [
       "charges category  Mahal  Murah\n",
       "smoker                        \n",
       "no                  352    708\n",
       "yes                 138      0"
      ]
     },
     "execution_count": 192,
     "metadata": {},
     "output_type": "execute_result"
    }
   ],
   "source": [
    "# Menampilkan Contingency Table Status Merokok dengan Kelompok Premi\n",
    "olr_contingency_table_smoker = pd.crosstab(df_no_outlier['smoker'],df_no_outlier['charges category'])\n",
    "olr_contingency_table_smoker\n"
   ]
  },
  {
   "cell_type": "markdown",
   "metadata": {},
   "source": [
    "Pada hasil tabel kontingensi diketahui bahwa sebanyak 352 peserta asuransi yang tidak merokok memiliki kelompok premi mahal, dan sebanyak 708 peserta auransi yang tidak merkok memiliki kelompok premi murah. Untuk peserta asuransi yang merokok, terdapat 138 peserta memiliki kelompok premi mahal dan tidak ada yang memiliki kelompok premi yang murah."
   ]
  },
  {
   "cell_type": "code",
   "execution_count": null,
   "metadata": {},
   "outputs": [
    {
     "data": {
      "text/html": [
       "<div>\n",
       "<style scoped>\n",
       "    .dataframe tbody tr th:only-of-type {\n",
       "        vertical-align: middle;\n",
       "    }\n",
       "\n",
       "    .dataframe tbody tr th {\n",
       "        vertical-align: top;\n",
       "    }\n",
       "\n",
       "    .dataframe thead th {\n",
       "        text-align: right;\n",
       "    }\n",
       "</style>\n",
       "<table border=\"1\" class=\"dataframe\">\n",
       "  <thead>\n",
       "    <tr style=\"text-align: right;\">\n",
       "      <th>charges category</th>\n",
       "      <th>Mahal</th>\n",
       "      <th>Murah</th>\n",
       "    </tr>\n",
       "    <tr>\n",
       "      <th>age category</th>\n",
       "      <th></th>\n",
       "      <th></th>\n",
       "    </tr>\n",
       "  </thead>\n",
       "  <tbody>\n",
       "    <tr>\n",
       "      <th>Dewasa</th>\n",
       "      <td>126</td>\n",
       "      <td>501</td>\n",
       "    </tr>\n",
       "    <tr>\n",
       "      <th>Lansia</th>\n",
       "      <td>334</td>\n",
       "      <td>111</td>\n",
       "    </tr>\n",
       "    <tr>\n",
       "      <th>Remaja</th>\n",
       "      <td>30</td>\n",
       "      <td>96</td>\n",
       "    </tr>\n",
       "  </tbody>\n",
       "</table>\n",
       "</div>"
      ],
      "text/plain": [
       "charges category  Mahal  Murah\n",
       "age category                  \n",
       "Dewasa              126    501\n",
       "Lansia              334    111\n",
       "Remaja               30     96"
      ]
     },
     "execution_count": 193,
     "metadata": {},
     "output_type": "execute_result"
    }
   ],
   "source": [
    "# Menampilkan Contingency Table Kelompok Usia dengan Kelompok Premi\n",
    "olr_contingency_table_age = pd.crosstab(df_no_outlier['age category'],df_no_outlier['charges category'])\n",
    "olr_contingency_table_age\n"
   ]
  },
  {
   "cell_type": "markdown",
   "metadata": {},
   "source": [
    "- Pada hasil tabel kontingensi diketahui bahwa sebanyak 126 peserta asuransi pada kategori usia dewasa memiliki kelompok premi yang mahal dan sebaliknya sebanyak 501 peserta yang memiliki kelompok premi yang murah. \n",
    "\n",
    "- Sebanyak 334 peserta asuransi pada kategori usia lansia memiliki kelompok premi yang mahal dan sebanyak 111 peserta yang memiliki kelompok premi yang murah. \n",
    "\n",
    "- Untuk kategori usia remaja, sebanyak 30 peserta asuransi memiliki kelompok premi yang mahal dan sebanyak 96 peserta yang memiliki kelompok premi yang murah. \n"
   ]
  },
  {
   "cell_type": "markdown",
   "metadata": {},
   "source": [
    "##### 7. Apakah status merokok sangat mempengaruhi besarnya premi? **(uji korelasi & visual deskriptif)**"
   ]
  },
  {
   "cell_type": "markdown",
   "metadata": {},
   "source": [
    "Saya ingin mengetahui apakah terdapat hubungan antara status merokok dengan premi dan seberapa kuat hubungan kedua variabel tersebut. Oleh karena itu saya melakukan uji korelasi dengan uji spearman. Uji spearman dilakukan karena data tidak berdistribusi normal (non parametrik ) serta subjek yang diuji berasal dari data yang berbeda."
   ]
  },
  {
   "cell_type": "code",
   "execution_count": null,
   "metadata": {},
   "outputs": [
    {
     "name": "stdout",
     "output_type": "stream",
     "text": [
      "rho-correlation: 0.50, p-value: 5.957626675358091e-77\n"
     ]
    }
   ],
   "source": [
    "# Melakukan uji korelasi dengan spearman\n",
    "corr_rho, pval_s = stats.spearmanr(df_no_outlier['smoker'], df_no_outlier['charges'])\n",
    "print(f\"rho-correlation: {corr_rho:.2f}, p-value: {pval_s}\")\n"
   ]
  },
  {
   "cell_type": "markdown",
   "metadata": {},
   "source": [
    "- Berdasarkan hasil analisis tersebut diketahui bahwa terdapat hubungan antara status merokok dengan premi, artinya status merokok sangat mempengaruhi besarnya premi dengan pvalue < 0.05 dan nilai r = 0.50 (karena hasil berada diantara pada nilai r = 0.26 - 0.50 kategori hubungan cukup). Selain itu, nilai r menunjukkan hubungan yang positif antara status merokok dengan besarnya premi yang dibayarkan oleh peserta asuransi"
   ]
  },
  {
   "cell_type": "code",
   "execution_count": null,
   "metadata": {},
   "outputs": [
    {
     "data": {
      "image/png": "[encoded data removed]",
      "text/plain": [
       "<Figure size 600x400 with 1 Axes>"
      ]
     },
     "metadata": {},
     "output_type": "display_data"
    }
   ],
   "source": [
    "\n",
    "# Mengatur gaya seaborn\n",
    "sns.set(style=\"whitegrid\")\n",
    "\n",
    "# Membuat scatter plot menggunakan Seaborn\n",
    "plt.figure(figsize=(6, 4))\n",
    "sns.scatterplot(data=df_no_outlier, x='smoker', y='charges', color='skyblue', alpha=0.6)\n",
    "\n",
    "# Menambahkan judul dan label sumbu\n",
    "plt.title('Pengaruh Status Merokok dengan Premi')\n",
    "plt.xlabel('Status Merokok')\n",
    "plt.ylabel('Premi')\n",
    "\n",
    "# Menampilkan grid\n",
    "plt.grid(True)\n",
    "\n",
    "# Menampilkan plot\n",
    "plt.show()\n",
    "\n"
   ]
  },
  {
   "cell_type": "markdown",
   "metadata": {},
   "source": [
    "Berdasarkan grafik tersebut, diketahui bahwa semakin tinggi nilai premi jika peserta asuransi merokok dan sebaliknya semakin rendah nilai premi jika peserta asuransi tidak merokok"
   ]
  },
  {
   "cell_type": "code",
   "execution_count": 69,
   "metadata": {},
   "outputs": [],
   "source": [
    "# simpan DataFrame setelah hapus outlier\n",
    "df_no_outlier.to_csv('Tabel_Insurance_No_Outlier.csv', index=False)"
   ]
  },
  {
   "cell_type": "markdown",
   "metadata": {},
   "source": [
    "## **KESIMPULAN**"
   ]
  },
  {
   "cell_type": "markdown",
   "metadata": {},
   "source": [
    "- Berdasarkan analisis yang dilakukan, dapat disimpulkan bahwa: \n",
    "\n",
    "1. Rata-rata premi sebesar $9934.67 dengan nilai terendah sebesar $1121.87 dan nilai tertinggi sebesar $34472.84\n",
    "\n",
    "2. Rata-rata premi tertinggi pada peserta asuransi perempuan yang sudah lansia, memiliki berat badan overweight, memiliki 4 anak dan merokok.\n",
    "\n",
    "3. Wilayah yang memiliki rata-rata premi tertinggi yaitu northeast.\n",
    "\n",
    "4. Peserta asuransi yang merokok dan memiliki berat badan dengan kategori obesitas memiliki rata-rata premi yang paling tinggi yaitu sebesar $32120.48\n",
    "\n",
    "5. Berdasarkan hasil analisis diketahui peserta asuransi lansia dan berjenis kelamin perempuan memiliki rata-rata premi yang tinggi sebesar $13858.97\n",
    "\n",
    "6. Terdapat hubungan antara jumlah anak, status merokok, dan kelompok usia terhadap kelompok premi yang harus dibayarkan oleh peserta asuransi.\n",
    "\n",
    "    Hal ini karena semakin banyak anak semakin besar biaya yang ditanggung. Selain itu, status merokok sangat mempengaruhi besarnya premi karena merokok dapat meningkatkan risiko  menderita penyakit di usia yang lebih muda dan akan  dipertimbangkan oleh perusahaan asuransi saat menetapkan premi asuransi dari calon peserta nasabah. Usia juga menjadi salah satu faktor penting yang mempengaruhi besarnya premi karena semakin muda umur tertanggung, maka harga premi juga cenderung lebih rendah. Hal ini dikarenakan, peserta yang masih muda memiliki risiko kematian yang lebih rendah. Dengan kata lain, risiko kematian meningkat seiring bertambahnya usia. \n",
    "\n",
    "7. Status merokok sangat mempengaruhi besarnya premi dan menunjukkan hubungan yang positif.\n",
    "\n",
    "- Oleh karena itu, sebagai calon peserta asuransi kesehatan dianjurkan untuk menjalani pola hidup yang sehat karena terdapat beberapa pertimbangan yang menjadikan setiap orang memiliki nilai premi yang berbeda. Selain itu, untuk untuk menghindari kesalahpahaman mengenai premi asuransi yang mahal, sebagai calon peserta dapat memilih plan asuransi sesuai dengan kebutuhan. \n"
   ]
  }
 ],
 "metadata": {
  "kernelspec": {
   "display_name": "base",
   "language": "python",
   "name": "python3"
  },
  "language_info": {
   "codemirror_mode": {
    "name": "ipython",
    "version": 3
   },
   "file_extension": ".py",
   "mimetype": "text/x-python",
   "name": "python",
   "nbconvert_exporter": "python",
   "pygments_lexer": "ipython3",
   "version": "3.9.13"
  }
 },
 "nbformat": 4,
 "nbformat_minor": 2
}
